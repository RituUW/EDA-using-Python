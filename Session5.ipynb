{
 "cells": [
  {
   "cell_type": "code",
   "execution_count": 1,
   "metadata": {},
   "outputs": [
    {
     "data": {
      "text/html": [
       "<div>\n",
       "<style scoped>\n",
       "    .dataframe tbody tr th:only-of-type {\n",
       "        vertical-align: middle;\n",
       "    }\n",
       "\n",
       "    .dataframe tbody tr th {\n",
       "        vertical-align: top;\n",
       "    }\n",
       "\n",
       "    .dataframe thead th {\n",
       "        text-align: right;\n",
       "    }\n",
       "</style>\n",
       "<table border=\"1\" class=\"dataframe\">\n",
       "  <thead>\n",
       "    <tr style=\"text-align: right;\">\n",
       "      <th></th>\n",
       "      <th>TOTAL VALUE</th>\n",
       "      <th>TAX</th>\n",
       "      <th>LOT SQFT</th>\n",
       "      <th>GROSS AREA</th>\n",
       "      <th>LIVING AREA</th>\n",
       "      <th>FLOORS</th>\n",
       "      <th>ROOMS</th>\n",
       "      <th>BEDROOMS</th>\n",
       "      <th>FULL BATH</th>\n",
       "      <th>HALF BATH</th>\n",
       "      <th>KITCHEN</th>\n",
       "      <th>FIREPLACE</th>\n",
       "    </tr>\n",
       "  </thead>\n",
       "  <tbody>\n",
       "    <tr>\n",
       "      <th>0</th>\n",
       "      <td>344.2</td>\n",
       "      <td>4330</td>\n",
       "      <td>9965</td>\n",
       "      <td>2436</td>\n",
       "      <td>1352</td>\n",
       "      <td>2.0</td>\n",
       "      <td>6</td>\n",
       "      <td>3</td>\n",
       "      <td>1</td>\n",
       "      <td>1</td>\n",
       "      <td>1</td>\n",
       "      <td>0</td>\n",
       "    </tr>\n",
       "    <tr>\n",
       "      <th>1</th>\n",
       "      <td>412.6</td>\n",
       "      <td>5190</td>\n",
       "      <td>6590</td>\n",
       "      <td>3108</td>\n",
       "      <td>1976</td>\n",
       "      <td>2.0</td>\n",
       "      <td>10</td>\n",
       "      <td>4</td>\n",
       "      <td>2</td>\n",
       "      <td>1</td>\n",
       "      <td>1</td>\n",
       "      <td>0</td>\n",
       "    </tr>\n",
       "    <tr>\n",
       "      <th>2</th>\n",
       "      <td>330.1</td>\n",
       "      <td>4152</td>\n",
       "      <td>7500</td>\n",
       "      <td>2294</td>\n",
       "      <td>1371</td>\n",
       "      <td>2.0</td>\n",
       "      <td>8</td>\n",
       "      <td>4</td>\n",
       "      <td>1</td>\n",
       "      <td>1</td>\n",
       "      <td>1</td>\n",
       "      <td>0</td>\n",
       "    </tr>\n",
       "    <tr>\n",
       "      <th>3</th>\n",
       "      <td>498.6</td>\n",
       "      <td>6272</td>\n",
       "      <td>13773</td>\n",
       "      <td>5032</td>\n",
       "      <td>2608</td>\n",
       "      <td>1.0</td>\n",
       "      <td>9</td>\n",
       "      <td>5</td>\n",
       "      <td>1</td>\n",
       "      <td>1</td>\n",
       "      <td>1</td>\n",
       "      <td>1</td>\n",
       "    </tr>\n",
       "    <tr>\n",
       "      <th>4</th>\n",
       "      <td>331.5</td>\n",
       "      <td>4170</td>\n",
       "      <td>5000</td>\n",
       "      <td>2370</td>\n",
       "      <td>1438</td>\n",
       "      <td>2.0</td>\n",
       "      <td>7</td>\n",
       "      <td>3</td>\n",
       "      <td>2</td>\n",
       "      <td>0</td>\n",
       "      <td>1</td>\n",
       "      <td>0</td>\n",
       "    </tr>\n",
       "  </tbody>\n",
       "</table>\n",
       "</div>"
      ],
      "text/plain": [
       "   TOTAL VALUE   TAX  LOT SQFT  GROSS AREA  LIVING AREA  FLOORS  ROOMS  \\\n",
       "0        344.2  4330      9965        2436         1352     2.0      6   \n",
       "1        412.6  5190      6590        3108         1976     2.0     10   \n",
       "2        330.1  4152      7500        2294         1371     2.0      8   \n",
       "3        498.6  6272     13773        5032         2608     1.0      9   \n",
       "4        331.5  4170      5000        2370         1438     2.0      7   \n",
       "\n",
       "   BEDROOMS  FULL BATH  HALF BATH  KITCHEN  FIREPLACE  \n",
       "0         3          1          1        1          0  \n",
       "1         4          2          1        1          0  \n",
       "2         4          1          1        1          0  \n",
       "3         5          1          1        1          1  \n",
       "4         3          2          0        1          0  "
      ]
     },
     "execution_count": 1,
     "metadata": {},
     "output_type": "execute_result"
    }
   ],
   "source": [
    "import pandas as pd\n",
    "house=pd.read_csv('WestRoxbury.csv')\n",
    "house.head()"
   ]
  },
  {
   "cell_type": "code",
   "execution_count": 2,
   "metadata": {},
   "outputs": [
    {
     "name": "stdout",
     "output_type": "stream",
     "text": [
      "['TOTAL VALUE' 'TAX' 'LOT SQFT' 'GROSS AREA' 'LIVING AREA' 'FLOORS'\n",
      " 'ROOMS' 'BEDROOMS' 'FULL BATH' 'HALF BATH' 'KITCHEN' 'FIREPLACE']\n"
     ]
    }
   ],
   "source": [
    "print(house.columns.values)"
   ]
  },
  {
   "cell_type": "code",
   "execution_count": 4,
   "metadata": {},
   "outputs": [
    {
     "name": "stdout",
     "output_type": "stream",
     "text": [
      "(5802, 3)\n"
     ]
    }
   ],
   "source": [
    "select_index=['GROSS AREA','FLOORS','ROOMS']\n",
    "house_X=house.loc[:,select_index]\n",
    "print(house_X.shape)"
   ]
  },
  {
   "cell_type": "code",
   "execution_count": 5,
   "metadata": {},
   "outputs": [],
   "source": [
    "house_y=house.iloc[:,0]"
   ]
  },
  {
   "cell_type": "code",
   "execution_count": 6,
   "metadata": {},
   "outputs": [],
   "source": [
    "from sklearn.model_selection import train_test_split\n",
    "X_train,X_valid,y_train,y_valid=\\\n",
    "train_test_split(house_X,house_y,test_size=.3,random_state=42)"
   ]
  },
  {
   "cell_type": "code",
   "execution_count": 7,
   "metadata": {},
   "outputs": [
    {
     "name": "stdout",
     "output_type": "stream",
     "text": [
      "(1741,)\n"
     ]
    }
   ],
   "source": [
    "print(y_valid.shape)"
   ]
  },
  {
   "cell_type": "code",
   "execution_count": 8,
   "metadata": {},
   "outputs": [],
   "source": [
    "from sklearn.linear_model import LinearRegression\n",
    "model=LinearRegression()"
   ]
  },
  {
   "cell_type": "code",
   "execution_count": 9,
   "metadata": {},
   "outputs": [
    {
     "data": {
      "text/plain": [
       "LinearRegression(copy_X=True, fit_intercept=True, n_jobs=None, normalize=False)"
      ]
     },
     "execution_count": 9,
     "metadata": {},
     "output_type": "execute_result"
    }
   ],
   "source": [
    "# train the model using training data\n",
    "model.fit(X_train,y_train)"
   ]
  },
  {
   "cell_type": "code",
   "execution_count": 10,
   "metadata": {},
   "outputs": [
    {
     "name": "stdout",
     "output_type": "stream",
     "text": [
      "[ 0.07365711 52.30357956  6.42323096]\n"
     ]
    }
   ],
   "source": [
    "#Print out the fitted coefficients is coeff of each of the attribute ie beta1,beta2,beta3\n",
    "print(model.coef_)"
   ]
  },
  {
   "cell_type": "code",
   "execution_count": 11,
   "metadata": {},
   "outputs": [
    {
     "name": "stdout",
     "output_type": "stream",
     "text": [
      "43.632518929296225\n"
     ]
    }
   ],
   "source": [
    "# this is the beta0\n",
    "print(model.intercept_)"
   ]
  },
  {
   "cell_type": "code",
   "execution_count": 13,
   "metadata": {},
   "outputs": [],
   "source": [
    "# make predictions for validation set\n",
    "y_pred=model.predict(X_valid)"
   ]
  },
  {
   "cell_type": "code",
   "execution_count": 14,
   "metadata": {},
   "outputs": [
    {
     "name": "stdout",
     "output_type": "stream",
     "text": [
      "[324.36351226 348.96498679 301.31235296 ... 347.42521939 536.53314407\n",
      " 359.09316756]\n"
     ]
    }
   ],
   "source": [
    "print(y_pred)"
   ]
  },
  {
   "cell_type": "code",
   "execution_count": 15,
   "metadata": {},
   "outputs": [
    {
     "name": "stdout",
     "output_type": "stream",
     "text": [
      "[356.18689946]\n"
     ]
    }
   ],
   "source": [
    "# make prediction for new house \n",
    "#gross area=2655,floors=1.5,rooms=6\n",
    "# two square brackets because we need to pretedn its 2d array since we can make predictions for two rows as well\n",
    "y_new_pred=model.predict([[2655,1.5,6]])\n",
    "print(y_new_pred)"
   ]
  },
  {
   "cell_type": "code",
   "execution_count": 17,
   "metadata": {},
   "outputs": [
    {
     "name": "stdout",
     "output_type": "stream",
     "text": [
      "40.611203796800346\n"
     ]
    }
   ],
   "source": [
    "# performance evaluation# calculating mean absolute error value\n",
    "import numpy as np\n",
    "e=y_valid-y_pred\n",
    "# compute rmse\n",
    "mae=np.mean(np.abs(e))\n",
    "print(mae)"
   ]
  },
  {
   "cell_type": "code",
   "execution_count": 18,
   "metadata": {},
   "outputs": [
    {
     "name": "stdout",
     "output_type": "stream",
     "text": [
      "39.888448920005914\n"
     ]
    }
   ],
   "source": [
    "# calculating training error\n",
    "\n",
    "y_pred_train=model.predict(X_train)\n",
    "e=y_train-y_pred_train\n",
    "mae=np.mean(np.abs(e))\n",
    "print(mae)\n"
   ]
  },
  {
   "cell_type": "code",
   "execution_count": null,
   "metadata": {},
   "outputs": [],
   "source": [
    "# if there is a large diff between validation error and training error that means \n",
    "#it is overfitting the model which is not good"
   ]
  }
 ],
 "metadata": {
  "kernelspec": {
   "display_name": "Python 3",
   "language": "python",
   "name": "python3"
  },
  "language_info": {
   "codemirror_mode": {
    "name": "ipython",
    "version": 3
   },
   "file_extension": ".py",
   "mimetype": "text/x-python",
   "name": "python",
   "nbconvert_exporter": "python",
   "pygments_lexer": "ipython3",
   "version": "3.7.6"
  }
 },
 "nbformat": 4,
 "nbformat_minor": 4
}
